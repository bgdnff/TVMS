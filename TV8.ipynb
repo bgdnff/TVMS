{
  "nbformat": 4,
  "nbformat_minor": 0,
  "metadata": {
    "colab": {
      "name": "TV8.ipynb",
      "version": "0.3.2",
      "provenance": [],
      "collapsed_sections": [],
      "include_colab_link": true
    },
    "kernelspec": {
      "name": "python3",
      "display_name": "Python 3"
    }
  },
  "cells": [
    {
      "cell_type": "markdown",
      "metadata": {
        "id": "view-in-github",
        "colab_type": "text"
      },
      "source": [
        "<a href=\"https://colab.research.google.com/github/bgdnff/TVMS/blob/master/TV8.ipynb\" target=\"_parent\"><img src=\"https://colab.research.google.com/assets/colab-badge.svg\" alt=\"Open In Colab\"/></a>"
      ]
    },
    {
      "cell_type": "code",
      "metadata": {
        "id": "RKTF7bb4BbYi",
        "colab_type": "code",
        "colab": {}
      },
      "source": [
        ""
      ],
      "execution_count": 0,
      "outputs": []
    },
    {
      "cell_type": "markdown",
      "metadata": {
        "id": "rZ_vXAS0EH6h",
        "colab_type": "text"
      },
      "source": [
        "__Задача 1__\n",
        "\n",
        "Провести дисперсионный анализ для определения того, есть ли различия среднего роста среди взрослых футболистов, хоккеистов и штангистов. Даны значения роста в трех группах случайно выбранных спортсменов: \n",
        "```\n",
        "football_players = [173, 175, 180, 178, 177, 185, 183, 182]\n",
        "hockey_players = [177, 179, 180, 188, 177, 172, 171, 184, 180]\n",
        "lifters = [172, 173, 169, 177, 166, 180, 178, 177, 172, 166, 170]\n",
        "```\n"
      ]
    },
    {
      "cell_type": "code",
      "metadata": {
        "id": "JhOSsyFQBWpm",
        "colab_type": "code",
        "colab": {}
      },
      "source": [
        "import numpy as np"
      ],
      "execution_count": 0,
      "outputs": []
    },
    {
      "cell_type": "code",
      "metadata": {
        "id": "1F5dp8zHBWpr",
        "colab_type": "code",
        "colab": {}
      },
      "source": [
        "football_players = np.array([173, 175, 180, 178, 177, 185, 183, 182])\n",
        "hockey_players = np.array([177, 179, 180, 188, 177, 172, 171, 184, 180])\n",
        "lifters = np.array([172, 173, 169, 177, 166, 180, 178, 177, 172, 166, 170])\n",
        "\n",
        "n1 = football_players.shape[0]\n",
        "n2 = hockey_players.shape[0]\n",
        "n3 =lifters.shape[0]"
      ],
      "execution_count": 0,
      "outputs": []
    },
    {
      "cell_type": "markdown",
      "metadata": {
        "id": "y44AztB9BWpx",
        "colab_type": "text"
      },
      "source": [
        "Выборочные средние по каждой группе:"
      ]
    },
    {
      "cell_type": "code",
      "metadata": {
        "id": "JuH8vOSgBWpz",
        "colab_type": "code",
        "outputId": "002934f5-85d5-4fdb-9d8d-89fde4a3bf51",
        "colab": {
          "base_uri": "https://localhost:8080/",
          "height": 34
        }
      },
      "source": [
        "fp_mean = football_players.mean()\n",
        "hp_mean = hockey_players.mean()\n",
        "lf_mean = lifters.mean()\n",
        "\n",
        "fp_mean, hp_mean, lf_mean"
      ],
      "execution_count": 6,
      "outputs": [
        {
          "output_type": "execute_result",
          "data": {
            "text/plain": [
              "(179.125, 178.66666666666666, 172.72727272727272)"
            ]
          },
          "metadata": {
            "tags": []
          },
          "execution_count": 6
        }
      ]
    },
    {
      "cell_type": "markdown",
      "metadata": {
        "id": "WS3Nw0ChHtHi",
        "colab_type": "text"
      },
      "source": [
        "Видно, что средний рост по группам различается не очень сильно. Проверим статистическую значимость различий"
      ]
    },
    {
      "cell_type": "code",
      "metadata": {
        "id": "MqFy-KmwBWp-",
        "colab_type": "code",
        "outputId": "c286e7f9-36ed-4630-dcba-97e48e3a349f",
        "colab": {
          "base_uri": "https://localhost:8080/",
          "height": 51
        }
      },
      "source": [
        "y = np.concatenate([football_players, hockey_players, lifters])\n",
        "\n",
        "print(y)"
      ],
      "execution_count": 7,
      "outputs": [
        {
          "output_type": "stream",
          "text": [
            "[173 175 180 178 177 185 183 182 177 179 180 188 177 172 171 184 180 172\n",
            " 173 169 177 166 180 178 177 172 166 170]\n"
          ],
          "name": "stdout"
        }
      ]
    },
    {
      "cell_type": "code",
      "metadata": {
        "id": "naj7NinaBWqE",
        "colab_type": "code",
        "outputId": "7a5994bf-8cf9-454c-f29c-eca0ebd8035e",
        "colab": {
          "base_uri": "https://localhost:8080/",
          "height": 34
        }
      },
      "source": [
        "y_mean = y.mean()\n",
        "y_mean"
      ],
      "execution_count": 11,
      "outputs": [
        {
          "output_type": "execute_result",
          "data": {
            "text/plain": [
              "176.46428571428572"
            ]
          },
          "metadata": {
            "tags": []
          },
          "execution_count": 11
        }
      ]
    },
    {
      "cell_type": "markdown",
      "metadata": {
        "id": "wP0Zv71rBWqK",
        "colab_type": "text"
      },
      "source": [
        "Найдём значения $S_F$ и $S_{res}$:"
      ]
    },
    {
      "cell_type": "code",
      "metadata": {
        "id": "Jph-pUxGBWqM",
        "colab_type": "code",
        "outputId": "279ae176-ec3b-4d13-99ab-916c339e7f00",
        "colab": {
          "base_uri": "https://localhost:8080/",
          "height": 34
        }
      },
      "source": [
        "S2_F = n1 * (fp_mean - y_mean) ** 2 + n2 * (hp_mean - y_mean) ** 2 + n3 * (lf_mean - y_mean) ** 2\n",
        "\n",
        "S2_res = ((football_players - fp_mean) ** 2).sum() + ((hockey_players - hp_mean) ** 2).sum() + ((lifters - lf_mean) ** 2).sum()\n",
        "\n",
        "S2_F, S2_res"
      ],
      "execution_count": 12,
      "outputs": [
        {
          "output_type": "execute_result",
          "data": {
            "text/plain": [
              "(253.9074675324678, 577.0568181818182)"
            ]
          },
          "metadata": {
            "tags": []
          },
          "execution_count": 12
        }
      ]
    },
    {
      "cell_type": "markdown",
      "metadata": {
        "id": "WoWeNcfcBWqS",
        "colab_type": "text"
      },
      "source": [
        "Проверим выполнение равенства $S^2 = S_F^2 + S_{res}^2:$"
      ]
    },
    {
      "cell_type": "code",
      "metadata": {
        "id": "pnoIiHzvBWqT",
        "colab_type": "code",
        "outputId": "95f3475a-0bd6-4232-af30-f3d23b8d792b",
        "colab": {
          "base_uri": "https://localhost:8080/",
          "height": 34
        }
      },
      "source": [
        "S2_F + S2_res, ((y - y_mean) ** 2).sum()"
      ],
      "execution_count": 14,
      "outputs": [
        {
          "output_type": "execute_result",
          "data": {
            "text/plain": [
              "(830.964285714286, 830.9642857142854)"
            ]
          },
          "metadata": {
            "tags": []
          },
          "execution_count": 14
        }
      ]
    },
    {
      "cell_type": "markdown",
      "metadata": {
        "id": "4cuXjDoPBWqb",
        "colab_type": "text"
      },
      "source": [
        "видим равенство в пределах погрешности вычислений\n",
        "\n",
        "_\n",
        "\n",
        "Запишем оценки дисперсий:\n",
        "\n",
        "\n"
      ]
    },
    {
      "cell_type": "code",
      "metadata": {
        "id": "4PY5h9TvBWqc",
        "colab_type": "code",
        "outputId": "e11007db-e9cf-438b-f38c-3a17fb232ad4",
        "colab": {
          "base_uri": "https://localhost:8080/",
          "height": 34
        }
      },
      "source": [
        "k = 3\n",
        "n = n1 + n2 + n3\n",
        "\n",
        "k1 = k - 1\n",
        "k2 = n - k\n",
        "\n",
        "sigma2_F = S2_F / k1\n",
        "sigma2_res = S2_res / k2\n",
        "\n",
        "sigma2_F, sigma2_res"
      ],
      "execution_count": 15,
      "outputs": [
        {
          "output_type": "execute_result",
          "data": {
            "text/plain": [
              "(126.9537337662339, 23.08227272727273)"
            ]
          },
          "metadata": {
            "tags": []
          },
          "execution_count": 15
        }
      ]
    },
    {
      "cell_type": "markdown",
      "metadata": {
        "id": "zAunhCoqBWql",
        "colab_type": "text"
      },
      "source": [
        "Итак, значение статистики $T$:"
      ]
    },
    {
      "cell_type": "code",
      "metadata": {
        "id": "p15Dv6uUBWqm",
        "colab_type": "code",
        "outputId": "54744e5c-908e-405c-ad68-a88656713494",
        "colab": {
          "base_uri": "https://localhost:8080/",
          "height": 34
        }
      },
      "source": [
        "T = sigma2_F / sigma2_res\n",
        "T"
      ],
      "execution_count": 16,
      "outputs": [
        {
          "output_type": "execute_result",
          "data": {
            "text/plain": [
              "5.500053450812598"
            ]
          },
          "metadata": {
            "tags": []
          },
          "execution_count": 16
        }
      ]
    },
    {
      "cell_type": "markdown",
      "metadata": {
        "colab_type": "text",
        "id": "JxCrnnKxM-Qu"
      },
      "source": [
        "Зафиксируем уровень значимости $\\alpha = 0.05$. Для него найдём критическое значение $F_{crit}$:"
      ]
    },
    {
      "cell_type": "code",
      "metadata": {
        "id": "OkF27g0MBWqx",
        "colab_type": "code",
        "colab": {}
      },
      "source": [
        "from scipy import stats"
      ],
      "execution_count": 0,
      "outputs": []
    },
    {
      "cell_type": "code",
      "metadata": {
        "id": "WAco4dgdBWq4",
        "colab_type": "code",
        "outputId": "0b6805b2-f8db-4807-9eba-aec68dfbf207",
        "colab": {
          "base_uri": "https://localhost:8080/",
          "height": 34
        }
      },
      "source": [
        "alpha = 0.05\n",
        "\n",
        "F_crit = stats.f.ppf(1 - alpha, k1, k2)\n",
        "F_crit"
      ],
      "execution_count": 18,
      "outputs": [
        {
          "output_type": "execute_result",
          "data": {
            "text/plain": [
              "3.3851899614491687"
            ]
          },
          "metadata": {
            "tags": []
          },
          "execution_count": 18
        }
      ]
    },
    {
      "cell_type": "markdown",
      "metadata": {
        "id": "MwFTTz4QBWrC",
        "colab_type": "text"
      },
      "source": [
        "Видим, что $T > F_{crit}$, поэтому заключаем, что отличие среднего роста по предложенным выборкам действительно является статистически значимым."
      ]
    }
  ]
}