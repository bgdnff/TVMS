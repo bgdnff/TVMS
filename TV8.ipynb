{
  "nbformat": 4,
  "nbformat_minor": 0,
  "metadata": {
    "colab": {
      "name": "TV8.ipynb",
      "version": "0.3.2",
      "provenance": [],
      "collapsed_sections": [],
      "include_colab_link": true
    },
    "language_info": {
      "codemirror_mode": {
        "name": "ipython",
        "version": 3
      },
      "file_extension": ".py",
      "mimetype": "text/x-python",
      "name": "python",
      "nbconvert_exporter": "python",
      "pygments_lexer": "ipython3",
      "version": "3.7.1"
    },
    "kernelspec": {
      "display_name": "Python 3",
      "language": "python",
      "name": "python3"
    }
  },
  "cells": [
    {
      "cell_type": "markdown",
      "metadata": {
        "id": "view-in-github",
        "colab_type": "text"
      },
      "source": [
        "<a href=\"https://colab.research.google.com/github/bgdnff/TVMS/blob/master/TV8.ipynb\" target=\"_parent\"><img src=\"https://colab.research.google.com/assets/colab-badge.svg\" alt=\"Open In Colab\"/></a>"
      ]
    },
    {
      "cell_type": "code",
      "metadata": {
        "colab_type": "code",
        "id": "RKTF7bb4BbYi",
        "colab": {}
      },
      "source": [
        ""
      ],
      "execution_count": 0,
      "outputs": []
    },
    {
      "cell_type": "markdown",
      "metadata": {
        "colab_type": "text",
        "id": "rZ_vXAS0EH6h"
      },
      "source": [
        "__Задача 1__\n",
        "\n",
        "Провести дисперсионный анализ для определения того, есть ли различия среднего роста среди взрослых футболистов, хоккеистов и штангистов. Даны значения роста в трех группах случайно выбранных спортсменов: \n",
        "```\n",
        "football_players = [173, 175, 180, 178, 177, 185, 183, 182]\n",
        "hockey_players = [177, 179, 180, 188, 177, 172, 171, 184, 180]\n",
        "lifters = [172, 173, 169, 177, 166, 180, 178, 177, 172, 166, 170]\n",
        "```\n"
      ]
    },
    {
      "cell_type": "code",
      "metadata": {
        "colab_type": "code",
        "id": "JhOSsyFQBWpm",
        "colab": {}
      },
      "source": [
        "import warnings\n",
        "\n",
        "import numpy as np\n",
        "import pandas as pd\n",
        "from matplotlib import pyplot as plt\n",
        "\n",
        "warnings.filterwarnings('ignore')\n"
      ],
      "execution_count": 0,
      "outputs": []
    },
    {
      "cell_type": "code",
      "metadata": {
        "colab_type": "code",
        "id": "1F5dp8zHBWpr",
        "colab": {}
      },
      "source": [
        "football_players = np.array([173, 175, 180, 178, 177, 185, 183, 182])\n",
        "hockey_players = np.array([177, 179, 180, 188, 177, 172, 171, 184, 180])\n",
        "lifters = np.array([172, 173, 169, 177, 166, 180, 178, 177, 172, 166, 170])\n",
        "\n",
        "n1 = football_players.shape[0]\n",
        "n2 = hockey_players.shape[0]\n",
        "n3 =lifters.shape[0]"
      ],
      "execution_count": 0,
      "outputs": []
    },
    {
      "cell_type": "markdown",
      "metadata": {
        "colab_type": "text",
        "id": "y44AztB9BWpx"
      },
      "source": [
        "Выборочные средние по каждой группе:"
      ]
    },
    {
      "cell_type": "code",
      "metadata": {
        "colab_type": "code",
        "id": "JuH8vOSgBWpz",
        "outputId": "002934f5-85d5-4fdb-9d8d-89fde4a3bf51",
        "colab": {
          "base_uri": "https://localhost:8080/",
          "height": 34
        }
      },
      "source": [
        "fp_mean = football_players.mean()\n",
        "hp_mean = hockey_players.mean()\n",
        "lf_mean = lifters.mean()\n",
        "\n",
        "fp_mean, hp_mean, lf_mean"
      ],
      "execution_count": 0,
      "outputs": [
        {
          "output_type": "execute_result",
          "data": {
            "text/plain": [
              "(179.125, 178.66666666666666, 172.72727272727272)"
            ]
          },
          "metadata": {
            "tags": []
          },
          "execution_count": 3
        }
      ]
    },
    {
      "cell_type": "markdown",
      "metadata": {
        "colab_type": "text",
        "id": "WS3Nw0ChHtHi"
      },
      "source": [
        "Видно, что средний рост по группам различается не очень сильно. Проверим статистическую значимость различий"
      ]
    },
    {
      "cell_type": "code",
      "metadata": {
        "colab_type": "code",
        "id": "MqFy-KmwBWp-",
        "outputId": "c286e7f9-36ed-4630-dcba-97e48e3a349f",
        "colab": {
          "base_uri": "https://localhost:8080/",
          "height": 51
        }
      },
      "source": [
        "y = np.concatenate([football_players, hockey_players, lifters])\n",
        "\n",
        "print(y)"
      ],
      "execution_count": 0,
      "outputs": [
        {
          "output_type": "stream",
          "text": [
            "[173 175 180 178 177 185 183 182 177 179 180 188 177 172 171 184 180 172\n",
            " 173 169 177 166 180 178 177 172 166 170]\n"
          ],
          "name": "stdout"
        }
      ]
    },
    {
      "cell_type": "code",
      "metadata": {
        "colab_type": "code",
        "id": "naj7NinaBWqE",
        "outputId": "7a5994bf-8cf9-454c-f29c-eca0ebd8035e",
        "colab": {
          "base_uri": "https://localhost:8080/",
          "height": 34
        }
      },
      "source": [
        "y_mean = y.mean()\n",
        "y_mean"
      ],
      "execution_count": 0,
      "outputs": [
        {
          "output_type": "execute_result",
          "data": {
            "text/plain": [
              "176.46428571428572"
            ]
          },
          "metadata": {
            "tags": []
          },
          "execution_count": 5
        }
      ]
    },
    {
      "cell_type": "markdown",
      "metadata": {
        "colab_type": "text",
        "id": "wP0Zv71rBWqK"
      },
      "source": [
        "Найдём значения $S_F$ и $S_{res}$:"
      ]
    },
    {
      "cell_type": "code",
      "metadata": {
        "colab_type": "code",
        "id": "Jph-pUxGBWqM",
        "outputId": "279ae176-ec3b-4d13-99ab-916c339e7f00",
        "colab": {
          "base_uri": "https://localhost:8080/",
          "height": 34
        }
      },
      "source": [
        "S2_F = n1 * (fp_mean - y_mean) ** 2 + n2 * (hp_mean - y_mean) ** 2 + n3 * (lf_mean - y_mean) ** 2\n",
        "\n",
        "S2_res = ((football_players - fp_mean) ** 2).sum() + ((hockey_players - hp_mean) ** 2).sum() + ((lifters - lf_mean) ** 2).sum()\n",
        "\n",
        "S2_F, S2_res"
      ],
      "execution_count": 0,
      "outputs": [
        {
          "output_type": "execute_result",
          "data": {
            "text/plain": [
              "(253.9074675324678, 577.0568181818182)"
            ]
          },
          "metadata": {
            "tags": []
          },
          "execution_count": 6
        }
      ]
    },
    {
      "cell_type": "markdown",
      "metadata": {
        "colab_type": "text",
        "id": "WoWeNcfcBWqS"
      },
      "source": [
        "Проверим выполнение равенства $S^2 = S_F^2 + S_{res}^2:$"
      ]
    },
    {
      "cell_type": "code",
      "metadata": {
        "colab_type": "code",
        "id": "pnoIiHzvBWqT",
        "outputId": "95f3475a-0bd6-4232-af30-f3d23b8d792b",
        "colab": {
          "base_uri": "https://localhost:8080/",
          "height": 34
        }
      },
      "source": [
        "S2_F + S2_res, ((y - y_mean) ** 2).sum()"
      ],
      "execution_count": 0,
      "outputs": [
        {
          "output_type": "execute_result",
          "data": {
            "text/plain": [
              "(830.964285714286, 830.9642857142854)"
            ]
          },
          "metadata": {
            "tags": []
          },
          "execution_count": 7
        }
      ]
    },
    {
      "cell_type": "markdown",
      "metadata": {
        "colab_type": "text",
        "id": "4cuXjDoPBWqb"
      },
      "source": [
        "видим равенство в пределах погрешности вычислений\n",
        "\n",
        "_\n",
        "\n",
        "Запишем оценки дисперсий:\n",
        "\n",
        "\n"
      ]
    },
    {
      "cell_type": "code",
      "metadata": {
        "colab_type": "code",
        "id": "4PY5h9TvBWqc",
        "outputId": "e11007db-e9cf-438b-f38c-3a17fb232ad4",
        "colab": {
          "base_uri": "https://localhost:8080/",
          "height": 34
        }
      },
      "source": [
        "k = 3\n",
        "n = n1 + n2 + n3\n",
        "\n",
        "k1 = k - 1\n",
        "k2 = n - k\n",
        "\n",
        "sigma2_F = S2_F / k1\n",
        "sigma2_res = S2_res / k2\n",
        "\n",
        "sigma2_F, sigma2_res"
      ],
      "execution_count": 0,
      "outputs": [
        {
          "output_type": "execute_result",
          "data": {
            "text/plain": [
              "(126.9537337662339, 23.08227272727273)"
            ]
          },
          "metadata": {
            "tags": []
          },
          "execution_count": 8
        }
      ]
    },
    {
      "cell_type": "markdown",
      "metadata": {
        "colab_type": "text",
        "id": "zAunhCoqBWql"
      },
      "source": [
        "Итак, значение статистики $T$:"
      ]
    },
    {
      "cell_type": "code",
      "metadata": {
        "colab_type": "code",
        "id": "p15Dv6uUBWqm",
        "outputId": "54744e5c-908e-405c-ad68-a88656713494",
        "colab": {
          "base_uri": "https://localhost:8080/",
          "height": 34
        }
      },
      "source": [
        "T = sigma2_F / sigma2_res\n",
        "T"
      ],
      "execution_count": 0,
      "outputs": [
        {
          "output_type": "execute_result",
          "data": {
            "text/plain": [
              "5.500053450812598"
            ]
          },
          "metadata": {
            "tags": []
          },
          "execution_count": 9
        }
      ]
    },
    {
      "cell_type": "markdown",
      "metadata": {
        "colab_type": "text",
        "id": "JxCrnnKxM-Qu"
      },
      "source": [
        "Зафиксируем уровень значимости $\\alpha = 0.05$. Для него найдём критическое значение $F_{crit}$:"
      ]
    },
    {
      "cell_type": "code",
      "metadata": {
        "colab_type": "code",
        "id": "OkF27g0MBWqx",
        "colab": {}
      },
      "source": [
        "from scipy import stats"
      ],
      "execution_count": 0,
      "outputs": []
    },
    {
      "cell_type": "code",
      "metadata": {
        "colab_type": "code",
        "id": "WAco4dgdBWq4",
        "outputId": "0b6805b2-f8db-4807-9eba-aec68dfbf207",
        "colab": {
          "base_uri": "https://localhost:8080/",
          "height": 34
        }
      },
      "source": [
        "alpha = 0.05\n",
        "\n",
        "F_crit = stats.f.ppf(1 - alpha, k1, k2)\n",
        "F_crit"
      ],
      "execution_count": 0,
      "outputs": [
        {
          "output_type": "execute_result",
          "data": {
            "text/plain": [
              "3.3851899614491687"
            ]
          },
          "metadata": {
            "tags": []
          },
          "execution_count": 11
        }
      ]
    },
    {
      "cell_type": "markdown",
      "metadata": {
        "colab_type": "text",
        "id": "MwFTTz4QBWrC"
      },
      "source": [
        "Видим, что $T > F_{crit}$, поэтому заключаем, что отличие среднего роста по предложенным выборкам действительно является статистически значимым."
      ]
    },
    {
      "cell_type": "markdown",
      "metadata": {
        "id": "jqrisGut_mbj",
        "colab_type": "text"
      },
      "source": [
        "_Задание 2 (курсовой проект)_"
      ]
    },
    {
      "cell_type": "markdown",
      "metadata": {
        "id": "MNphjylh_mcQ",
        "colab_type": "text"
      },
      "source": [
        "#### Статистический обзор роста военнослужащих US Army и проверка наличия статистически значимого отличия в росте по расам"
      ]
    },
    {
      "cell_type": "markdown",
      "metadata": {
        "id": "xGHcyllj_mcR",
        "colab_type": "text"
      },
      "source": [
        "Датасет \"The 2012 US Army Anthropometric Survey (ANSUR II)\" содержит антропометрические измерения служащих армии США по 93м параметрам, в данном исследовании рассмотрим измерения только по мужчинам и только их рост"
      ]
    },
    {
      "cell_type": "markdown",
      "metadata": {
        "id": "KNUOUerJ_mcU",
        "colab_type": "text"
      },
      "source": [
        "_следует иметь в виду, что выборка не репрезентативная и распространять полученные результаты на всю популяцию следует с осторожностью_"
      ]
    },
    {
      "cell_type": "code",
      "metadata": {
        "id": "LGCxiwee_mcW",
        "colab_type": "code",
        "colab": {}
      },
      "source": [
        "df = pd.read_csv('Distribution/ANSUR II MALE Public.csv', encoding='cp1251')\n",
        "pd.options.display.max_columns = 120"
      ],
      "execution_count": 0,
      "outputs": []
    },
    {
      "cell_type": "code",
      "metadata": {
        "id": "FvD2dkeD_mc8",
        "colab_type": "code",
        "colab": {},
        "outputId": "e42ddc90-ad6b-4f73-db23-304b9fa05e5b"
      },
      "source": [
        "df.head()"
      ],
      "execution_count": 0,
      "outputs": [
        {
          "output_type": "execute_result",
          "data": {
            "text/html": [
              "<div>\n",
              "<style scoped>\n",
              "    .dataframe tbody tr th:only-of-type {\n",
              "        vertical-align: middle;\n",
              "    }\n",
              "\n",
              "    .dataframe tbody tr th {\n",
              "        vertical-align: top;\n",
              "    }\n",
              "\n",
              "    .dataframe thead th {\n",
              "        text-align: right;\n",
              "    }\n",
              "</style>\n",
              "<table border=\"1\" class=\"dataframe\">\n",
              "  <thead>\n",
              "    <tr style=\"text-align: right;\">\n",
              "      <th></th>\n",
              "      <th>subjectid</th>\n",
              "      <th>abdominalextensiondepthsitting</th>\n",
              "      <th>acromialheight</th>\n",
              "      <th>acromionradialelength</th>\n",
              "      <th>anklecircumference</th>\n",
              "      <th>axillaheight</th>\n",
              "      <th>balloffootcircumference</th>\n",
              "      <th>balloffootlength</th>\n",
              "      <th>biacromialbreadth</th>\n",
              "      <th>bicepscircumferenceflexed</th>\n",
              "      <th>bicristalbreadth</th>\n",
              "      <th>bideltoidbreadth</th>\n",
              "      <th>bimalleolarbreadth</th>\n",
              "      <th>bitragionchinarc</th>\n",
              "      <th>bitragionsubmandibulararc</th>\n",
              "      <th>bizygomaticbreadth</th>\n",
              "      <th>buttockcircumference</th>\n",
              "      <th>buttockdepth</th>\n",
              "      <th>buttockheight</th>\n",
              "      <th>buttockkneelength</th>\n",
              "      <th>buttockpopliteallength</th>\n",
              "      <th>calfcircumference</th>\n",
              "      <th>cervicaleheight</th>\n",
              "      <th>chestbreadth</th>\n",
              "      <th>chestcircumference</th>\n",
              "      <th>chestdepth</th>\n",
              "      <th>chestheight</th>\n",
              "      <th>crotchheight</th>\n",
              "      <th>crotchlengthomphalion</th>\n",
              "      <th>crotchlengthposterioromphalion</th>\n",
              "      <th>earbreadth</th>\n",
              "      <th>earlength</th>\n",
              "      <th>earprotrusion</th>\n",
              "      <th>elbowrestheight</th>\n",
              "      <th>eyeheightsitting</th>\n",
              "      <th>footbreadthhorizontal</th>\n",
              "      <th>footlength</th>\n",
              "      <th>forearmcenterofgriplength</th>\n",
              "      <th>forearmcircumferenceflexed</th>\n",
              "      <th>forearmforearmbreadth</th>\n",
              "      <th>forearmhandlength</th>\n",
              "      <th>functionalleglength</th>\n",
              "      <th>handbreadth</th>\n",
              "      <th>handcircumference</th>\n",
              "      <th>handlength</th>\n",
              "      <th>headbreadth</th>\n",
              "      <th>headcircumference</th>\n",
              "      <th>headlength</th>\n",
              "      <th>heelanklecircumference</th>\n",
              "      <th>heelbreadth</th>\n",
              "      <th>hipbreadth</th>\n",
              "      <th>hipbreadthsitting</th>\n",
              "      <th>iliocristaleheight</th>\n",
              "      <th>interpupillarybreadth</th>\n",
              "      <th>interscyei</th>\n",
              "      <th>interscyeii</th>\n",
              "      <th>kneeheightmidpatella</th>\n",
              "      <th>kneeheightsitting</th>\n",
              "      <th>lateralfemoralepicondyleheight</th>\n",
              "      <th>lateralmalleolusheight</th>\n",
              "      <th>lowerthighcircumference</th>\n",
              "      <th>mentonsellionlength</th>\n",
              "      <th>neckcircumference</th>\n",
              "      <th>neckcircumferencebase</th>\n",
              "      <th>overheadfingertipreachsitting</th>\n",
              "      <th>palmlength</th>\n",
              "      <th>poplitealheight</th>\n",
              "      <th>radialestylionlength</th>\n",
              "      <th>shouldercircumference</th>\n",
              "      <th>shoulderelbowlength</th>\n",
              "      <th>shoulderlength</th>\n",
              "      <th>sittingheight</th>\n",
              "      <th>sleevelengthspinewrist</th>\n",
              "      <th>sleeveoutseam</th>\n",
              "      <th>span</th>\n",
              "      <th>stature</th>\n",
              "      <th>suprasternaleheight</th>\n",
              "      <th>tenthribheight</th>\n",
              "      <th>thighcircumference</th>\n",
              "      <th>thighclearance</th>\n",
              "      <th>thumbtipreach</th>\n",
              "      <th>tibialheight</th>\n",
              "      <th>tragiontopofhead</th>\n",
              "      <th>trochanterionheight</th>\n",
              "      <th>verticaltrunkcircumferenceusa</th>\n",
              "      <th>waistbacklength</th>\n",
              "      <th>waistbreadth</th>\n",
              "      <th>waistcircumference</th>\n",
              "      <th>waistdepth</th>\n",
              "      <th>waistfrontlengthsitting</th>\n",
              "      <th>waistheightomphalion</th>\n",
              "      <th>weightkg</th>\n",
              "      <th>wristcircumference</th>\n",
              "      <th>wristheight</th>\n",
              "      <th>Gender</th>\n",
              "      <th>Date</th>\n",
              "      <th>Installation</th>\n",
              "      <th>Component</th>\n",
              "      <th>Branch</th>\n",
              "      <th>PrimaryMOS</th>\n",
              "      <th>SubjectsBirthLocation</th>\n",
              "      <th>SubjectNumericRace</th>\n",
              "      <th>Ethnicity</th>\n",
              "      <th>DODRace</th>\n",
              "      <th>Age</th>\n",
              "      <th>Heightin</th>\n",
              "      <th>Weightlbs</th>\n",
              "      <th>WritingPreference</th>\n",
              "    </tr>\n",
              "  </thead>\n",
              "  <tbody>\n",
              "    <tr>\n",
              "      <th>0</th>\n",
              "      <td>10027</td>\n",
              "      <td>266</td>\n",
              "      <td>1467</td>\n",
              "      <td>337</td>\n",
              "      <td>222</td>\n",
              "      <td>1347</td>\n",
              "      <td>253</td>\n",
              "      <td>202</td>\n",
              "      <td>401</td>\n",
              "      <td>369</td>\n",
              "      <td>274</td>\n",
              "      <td>493</td>\n",
              "      <td>71</td>\n",
              "      <td>319</td>\n",
              "      <td>291</td>\n",
              "      <td>142</td>\n",
              "      <td>979</td>\n",
              "      <td>240</td>\n",
              "      <td>882</td>\n",
              "      <td>619</td>\n",
              "      <td>509</td>\n",
              "      <td>373</td>\n",
              "      <td>1535</td>\n",
              "      <td>291</td>\n",
              "      <td>1074</td>\n",
              "      <td>259</td>\n",
              "      <td>1292</td>\n",
              "      <td>877</td>\n",
              "      <td>607</td>\n",
              "      <td>351</td>\n",
              "      <td>36</td>\n",
              "      <td>71</td>\n",
              "      <td>19</td>\n",
              "      <td>247</td>\n",
              "      <td>802</td>\n",
              "      <td>101</td>\n",
              "      <td>273</td>\n",
              "      <td>349</td>\n",
              "      <td>299</td>\n",
              "      <td>575</td>\n",
              "      <td>477</td>\n",
              "      <td>1136</td>\n",
              "      <td>90</td>\n",
              "      <td>214</td>\n",
              "      <td>193</td>\n",
              "      <td>150</td>\n",
              "      <td>583</td>\n",
              "      <td>206</td>\n",
              "      <td>326</td>\n",
              "      <td>70</td>\n",
              "      <td>332</td>\n",
              "      <td>366</td>\n",
              "      <td>1071</td>\n",
              "      <td>685</td>\n",
              "      <td>422</td>\n",
              "      <td>441</td>\n",
              "      <td>502</td>\n",
              "      <td>560</td>\n",
              "      <td>500</td>\n",
              "      <td>77</td>\n",
              "      <td>391</td>\n",
              "      <td>118</td>\n",
              "      <td>400</td>\n",
              "      <td>436</td>\n",
              "      <td>1447</td>\n",
              "      <td>113</td>\n",
              "      <td>437</td>\n",
              "      <td>273</td>\n",
              "      <td>1151</td>\n",
              "      <td>368</td>\n",
              "      <td>145</td>\n",
              "      <td>928</td>\n",
              "      <td>883</td>\n",
              "      <td>600</td>\n",
              "      <td>1782</td>\n",
              "      <td>1776</td>\n",
              "      <td>1449</td>\n",
              "      <td>1092</td>\n",
              "      <td>610</td>\n",
              "      <td>164</td>\n",
              "      <td>786</td>\n",
              "      <td>491</td>\n",
              "      <td>140</td>\n",
              "      <td>919</td>\n",
              "      <td>1700</td>\n",
              "      <td>501</td>\n",
              "      <td>329</td>\n",
              "      <td>933</td>\n",
              "      <td>240</td>\n",
              "      <td>440</td>\n",
              "      <td>1054</td>\n",
              "      <td>815</td>\n",
              "      <td>175</td>\n",
              "      <td>853</td>\n",
              "      <td>Male</td>\n",
              "      <td>4-Oct-10</td>\n",
              "      <td>Fort Hood</td>\n",
              "      <td>Regular Army</td>\n",
              "      <td>Combat Arms</td>\n",
              "      <td>19D</td>\n",
              "      <td>North Dakota</td>\n",
              "      <td>1</td>\n",
              "      <td>NaN</td>\n",
              "      <td>1</td>\n",
              "      <td>41</td>\n",
              "      <td>71</td>\n",
              "      <td>180</td>\n",
              "      <td>Right hand</td>\n",
              "    </tr>\n",
              "    <tr>\n",
              "      <th>1</th>\n",
              "      <td>10032</td>\n",
              "      <td>233</td>\n",
              "      <td>1395</td>\n",
              "      <td>326</td>\n",
              "      <td>220</td>\n",
              "      <td>1293</td>\n",
              "      <td>245</td>\n",
              "      <td>193</td>\n",
              "      <td>394</td>\n",
              "      <td>338</td>\n",
              "      <td>257</td>\n",
              "      <td>479</td>\n",
              "      <td>67</td>\n",
              "      <td>344</td>\n",
              "      <td>320</td>\n",
              "      <td>135</td>\n",
              "      <td>944</td>\n",
              "      <td>232</td>\n",
              "      <td>870</td>\n",
              "      <td>584</td>\n",
              "      <td>468</td>\n",
              "      <td>357</td>\n",
              "      <td>1471</td>\n",
              "      <td>269</td>\n",
              "      <td>1021</td>\n",
              "      <td>253</td>\n",
              "      <td>1244</td>\n",
              "      <td>851</td>\n",
              "      <td>615</td>\n",
              "      <td>376</td>\n",
              "      <td>33</td>\n",
              "      <td>62</td>\n",
              "      <td>18</td>\n",
              "      <td>232</td>\n",
              "      <td>781</td>\n",
              "      <td>98</td>\n",
              "      <td>263</td>\n",
              "      <td>348</td>\n",
              "      <td>289</td>\n",
              "      <td>523</td>\n",
              "      <td>476</td>\n",
              "      <td>1096</td>\n",
              "      <td>86</td>\n",
              "      <td>203</td>\n",
              "      <td>195</td>\n",
              "      <td>146</td>\n",
              "      <td>568</td>\n",
              "      <td>201</td>\n",
              "      <td>334</td>\n",
              "      <td>72</td>\n",
              "      <td>312</td>\n",
              "      <td>356</td>\n",
              "      <td>1046</td>\n",
              "      <td>620</td>\n",
              "      <td>441</td>\n",
              "      <td>447</td>\n",
              "      <td>490</td>\n",
              "      <td>540</td>\n",
              "      <td>488</td>\n",
              "      <td>73</td>\n",
              "      <td>371</td>\n",
              "      <td>131</td>\n",
              "      <td>380</td>\n",
              "      <td>420</td>\n",
              "      <td>1380</td>\n",
              "      <td>118</td>\n",
              "      <td>417</td>\n",
              "      <td>254</td>\n",
              "      <td>1119</td>\n",
              "      <td>353</td>\n",
              "      <td>141</td>\n",
              "      <td>884</td>\n",
              "      <td>868</td>\n",
              "      <td>564</td>\n",
              "      <td>1745</td>\n",
              "      <td>1702</td>\n",
              "      <td>1387</td>\n",
              "      <td>1076</td>\n",
              "      <td>572</td>\n",
              "      <td>169</td>\n",
              "      <td>822</td>\n",
              "      <td>476</td>\n",
              "      <td>120</td>\n",
              "      <td>918</td>\n",
              "      <td>1627</td>\n",
              "      <td>432</td>\n",
              "      <td>316</td>\n",
              "      <td>870</td>\n",
              "      <td>225</td>\n",
              "      <td>371</td>\n",
              "      <td>1054</td>\n",
              "      <td>726</td>\n",
              "      <td>167</td>\n",
              "      <td>815</td>\n",
              "      <td>Male</td>\n",
              "      <td>4-Oct-10</td>\n",
              "      <td>Fort Hood</td>\n",
              "      <td>Regular Army</td>\n",
              "      <td>Combat Support</td>\n",
              "      <td>68W</td>\n",
              "      <td>New York</td>\n",
              "      <td>1</td>\n",
              "      <td>NaN</td>\n",
              "      <td>1</td>\n",
              "      <td>35</td>\n",
              "      <td>68</td>\n",
              "      <td>160</td>\n",
              "      <td>Left hand</td>\n",
              "    </tr>\n",
              "    <tr>\n",
              "      <th>2</th>\n",
              "      <td>10033</td>\n",
              "      <td>287</td>\n",
              "      <td>1430</td>\n",
              "      <td>341</td>\n",
              "      <td>230</td>\n",
              "      <td>1327</td>\n",
              "      <td>256</td>\n",
              "      <td>196</td>\n",
              "      <td>427</td>\n",
              "      <td>408</td>\n",
              "      <td>261</td>\n",
              "      <td>544</td>\n",
              "      <td>75</td>\n",
              "      <td>345</td>\n",
              "      <td>330</td>\n",
              "      <td>135</td>\n",
              "      <td>1054</td>\n",
              "      <td>258</td>\n",
              "      <td>901</td>\n",
              "      <td>623</td>\n",
              "      <td>506</td>\n",
              "      <td>412</td>\n",
              "      <td>1501</td>\n",
              "      <td>288</td>\n",
              "      <td>1120</td>\n",
              "      <td>267</td>\n",
              "      <td>1288</td>\n",
              "      <td>854</td>\n",
              "      <td>636</td>\n",
              "      <td>359</td>\n",
              "      <td>40</td>\n",
              "      <td>61</td>\n",
              "      <td>23</td>\n",
              "      <td>237</td>\n",
              "      <td>810</td>\n",
              "      <td>103</td>\n",
              "      <td>270</td>\n",
              "      <td>355</td>\n",
              "      <td>357</td>\n",
              "      <td>575</td>\n",
              "      <td>491</td>\n",
              "      <td>1115</td>\n",
              "      <td>93</td>\n",
              "      <td>220</td>\n",
              "      <td>203</td>\n",
              "      <td>148</td>\n",
              "      <td>573</td>\n",
              "      <td>202</td>\n",
              "      <td>356</td>\n",
              "      <td>70</td>\n",
              "      <td>349</td>\n",
              "      <td>393</td>\n",
              "      <td>1053</td>\n",
              "      <td>665</td>\n",
              "      <td>462</td>\n",
              "      <td>475</td>\n",
              "      <td>496</td>\n",
              "      <td>556</td>\n",
              "      <td>482</td>\n",
              "      <td>72</td>\n",
              "      <td>409</td>\n",
              "      <td>123</td>\n",
              "      <td>403</td>\n",
              "      <td>434</td>\n",
              "      <td>1447</td>\n",
              "      <td>121</td>\n",
              "      <td>431</td>\n",
              "      <td>268</td>\n",
              "      <td>1276</td>\n",
              "      <td>367</td>\n",
              "      <td>167</td>\n",
              "      <td>917</td>\n",
              "      <td>910</td>\n",
              "      <td>604</td>\n",
              "      <td>1867</td>\n",
              "      <td>1735</td>\n",
              "      <td>1438</td>\n",
              "      <td>1105</td>\n",
              "      <td>685</td>\n",
              "      <td>198</td>\n",
              "      <td>807</td>\n",
              "      <td>477</td>\n",
              "      <td>125</td>\n",
              "      <td>918</td>\n",
              "      <td>1678</td>\n",
              "      <td>472</td>\n",
              "      <td>329</td>\n",
              "      <td>964</td>\n",
              "      <td>255</td>\n",
              "      <td>411</td>\n",
              "      <td>1041</td>\n",
              "      <td>929</td>\n",
              "      <td>180</td>\n",
              "      <td>831</td>\n",
              "      <td>Male</td>\n",
              "      <td>4-Oct-10</td>\n",
              "      <td>Fort Hood</td>\n",
              "      <td>Regular Army</td>\n",
              "      <td>Combat Support</td>\n",
              "      <td>68W</td>\n",
              "      <td>New York</td>\n",
              "      <td>2</td>\n",
              "      <td>NaN</td>\n",
              "      <td>2</td>\n",
              "      <td>42</td>\n",
              "      <td>68</td>\n",
              "      <td>205</td>\n",
              "      <td>Left hand</td>\n",
              "    </tr>\n",
              "    <tr>\n",
              "      <th>3</th>\n",
              "      <td>10092</td>\n",
              "      <td>234</td>\n",
              "      <td>1347</td>\n",
              "      <td>310</td>\n",
              "      <td>230</td>\n",
              "      <td>1239</td>\n",
              "      <td>262</td>\n",
              "      <td>199</td>\n",
              "      <td>401</td>\n",
              "      <td>359</td>\n",
              "      <td>262</td>\n",
              "      <td>518</td>\n",
              "      <td>73</td>\n",
              "      <td>328</td>\n",
              "      <td>309</td>\n",
              "      <td>143</td>\n",
              "      <td>991</td>\n",
              "      <td>242</td>\n",
              "      <td>821</td>\n",
              "      <td>560</td>\n",
              "      <td>437</td>\n",
              "      <td>395</td>\n",
              "      <td>1423</td>\n",
              "      <td>296</td>\n",
              "      <td>1114</td>\n",
              "      <td>262</td>\n",
              "      <td>1205</td>\n",
              "      <td>769</td>\n",
              "      <td>590</td>\n",
              "      <td>341</td>\n",
              "      <td>39</td>\n",
              "      <td>66</td>\n",
              "      <td>25</td>\n",
              "      <td>272</td>\n",
              "      <td>794</td>\n",
              "      <td>106</td>\n",
              "      <td>267</td>\n",
              "      <td>352</td>\n",
              "      <td>318</td>\n",
              "      <td>593</td>\n",
              "      <td>467</td>\n",
              "      <td>1034</td>\n",
              "      <td>91</td>\n",
              "      <td>217</td>\n",
              "      <td>194</td>\n",
              "      <td>158</td>\n",
              "      <td>576</td>\n",
              "      <td>199</td>\n",
              "      <td>341</td>\n",
              "      <td>68</td>\n",
              "      <td>338</td>\n",
              "      <td>367</td>\n",
              "      <td>986</td>\n",
              "      <td>640</td>\n",
              "      <td>458</td>\n",
              "      <td>461</td>\n",
              "      <td>460</td>\n",
              "      <td>511</td>\n",
              "      <td>452</td>\n",
              "      <td>76</td>\n",
              "      <td>393</td>\n",
              "      <td>106</td>\n",
              "      <td>407</td>\n",
              "      <td>446</td>\n",
              "      <td>1357</td>\n",
              "      <td>118</td>\n",
              "      <td>393</td>\n",
              "      <td>249</td>\n",
              "      <td>1155</td>\n",
              "      <td>330</td>\n",
              "      <td>148</td>\n",
              "      <td>903</td>\n",
              "      <td>848</td>\n",
              "      <td>550</td>\n",
              "      <td>1708</td>\n",
              "      <td>1655</td>\n",
              "      <td>1346</td>\n",
              "      <td>1021</td>\n",
              "      <td>604</td>\n",
              "      <td>180</td>\n",
              "      <td>803</td>\n",
              "      <td>445</td>\n",
              "      <td>127</td>\n",
              "      <td>847</td>\n",
              "      <td>1625</td>\n",
              "      <td>461</td>\n",
              "      <td>315</td>\n",
              "      <td>857</td>\n",
              "      <td>205</td>\n",
              "      <td>399</td>\n",
              "      <td>968</td>\n",
              "      <td>794</td>\n",
              "      <td>176</td>\n",
              "      <td>793</td>\n",
              "      <td>Male</td>\n",
              "      <td>12-Oct-10</td>\n",
              "      <td>Fort Hood</td>\n",
              "      <td>Regular Army</td>\n",
              "      <td>Combat Service Support</td>\n",
              "      <td>88M</td>\n",
              "      <td>Wisconsin</td>\n",
              "      <td>1</td>\n",
              "      <td>NaN</td>\n",
              "      <td>1</td>\n",
              "      <td>31</td>\n",
              "      <td>66</td>\n",
              "      <td>175</td>\n",
              "      <td>Right hand</td>\n",
              "    </tr>\n",
              "    <tr>\n",
              "      <th>4</th>\n",
              "      <td>10093</td>\n",
              "      <td>250</td>\n",
              "      <td>1585</td>\n",
              "      <td>372</td>\n",
              "      <td>247</td>\n",
              "      <td>1478</td>\n",
              "      <td>267</td>\n",
              "      <td>224</td>\n",
              "      <td>435</td>\n",
              "      <td>356</td>\n",
              "      <td>263</td>\n",
              "      <td>524</td>\n",
              "      <td>80</td>\n",
              "      <td>340</td>\n",
              "      <td>310</td>\n",
              "      <td>138</td>\n",
              "      <td>1029</td>\n",
              "      <td>275</td>\n",
              "      <td>1080</td>\n",
              "      <td>706</td>\n",
              "      <td>567</td>\n",
              "      <td>425</td>\n",
              "      <td>1684</td>\n",
              "      <td>304</td>\n",
              "      <td>1048</td>\n",
              "      <td>232</td>\n",
              "      <td>1452</td>\n",
              "      <td>1014</td>\n",
              "      <td>682</td>\n",
              "      <td>382</td>\n",
              "      <td>32</td>\n",
              "      <td>56</td>\n",
              "      <td>19</td>\n",
              "      <td>188</td>\n",
              "      <td>814</td>\n",
              "      <td>111</td>\n",
              "      <td>305</td>\n",
              "      <td>399</td>\n",
              "      <td>324</td>\n",
              "      <td>605</td>\n",
              "      <td>550</td>\n",
              "      <td>1279</td>\n",
              "      <td>94</td>\n",
              "      <td>222</td>\n",
              "      <td>218</td>\n",
              "      <td>153</td>\n",
              "      <td>566</td>\n",
              "      <td>197</td>\n",
              "      <td>374</td>\n",
              "      <td>69</td>\n",
              "      <td>332</td>\n",
              "      <td>372</td>\n",
              "      <td>1251</td>\n",
              "      <td>675</td>\n",
              "      <td>481</td>\n",
              "      <td>505</td>\n",
              "      <td>612</td>\n",
              "      <td>666</td>\n",
              "      <td>585</td>\n",
              "      <td>85</td>\n",
              "      <td>458</td>\n",
              "      <td>135</td>\n",
              "      <td>398</td>\n",
              "      <td>430</td>\n",
              "      <td>1572</td>\n",
              "      <td>132</td>\n",
              "      <td>523</td>\n",
              "      <td>302</td>\n",
              "      <td>1231</td>\n",
              "      <td>400</td>\n",
              "      <td>180</td>\n",
              "      <td>919</td>\n",
              "      <td>995</td>\n",
              "      <td>641</td>\n",
              "      <td>2035</td>\n",
              "      <td>1914</td>\n",
              "      <td>1596</td>\n",
              "      <td>1292</td>\n",
              "      <td>672</td>\n",
              "      <td>194</td>\n",
              "      <td>962</td>\n",
              "      <td>584</td>\n",
              "      <td>122</td>\n",
              "      <td>1090</td>\n",
              "      <td>1679</td>\n",
              "      <td>467</td>\n",
              "      <td>303</td>\n",
              "      <td>868</td>\n",
              "      <td>214</td>\n",
              "      <td>379</td>\n",
              "      <td>1245</td>\n",
              "      <td>946</td>\n",
              "      <td>188</td>\n",
              "      <td>954</td>\n",
              "      <td>Male</td>\n",
              "      <td>12-Oct-10</td>\n",
              "      <td>Fort Hood</td>\n",
              "      <td>Regular Army</td>\n",
              "      <td>Combat Service Support</td>\n",
              "      <td>92G</td>\n",
              "      <td>North Carolina</td>\n",
              "      <td>2</td>\n",
              "      <td>NaN</td>\n",
              "      <td>2</td>\n",
              "      <td>21</td>\n",
              "      <td>77</td>\n",
              "      <td>213</td>\n",
              "      <td>Right hand</td>\n",
              "    </tr>\n",
              "  </tbody>\n",
              "</table>\n",
              "</div>"
            ],
            "text/plain": [
              "   subjectid  abdominalextensiondepthsitting  acromialheight  \\\n",
              "0      10027                             266            1467   \n",
              "1      10032                             233            1395   \n",
              "2      10033                             287            1430   \n",
              "3      10092                             234            1347   \n",
              "4      10093                             250            1585   \n",
              "\n",
              "   acromionradialelength  anklecircumference  axillaheight  \\\n",
              "0                    337                 222          1347   \n",
              "1                    326                 220          1293   \n",
              "2                    341                 230          1327   \n",
              "3                    310                 230          1239   \n",
              "4                    372                 247          1478   \n",
              "\n",
              "   balloffootcircumference  balloffootlength  biacromialbreadth  \\\n",
              "0                      253               202                401   \n",
              "1                      245               193                394   \n",
              "2                      256               196                427   \n",
              "3                      262               199                401   \n",
              "4                      267               224                435   \n",
              "\n",
              "   bicepscircumferenceflexed  bicristalbreadth  bideltoidbreadth  \\\n",
              "0                        369               274               493   \n",
              "1                        338               257               479   \n",
              "2                        408               261               544   \n",
              "3                        359               262               518   \n",
              "4                        356               263               524   \n",
              "\n",
              "   bimalleolarbreadth  bitragionchinarc  bitragionsubmandibulararc  \\\n",
              "0                  71               319                        291   \n",
              "1                  67               344                        320   \n",
              "2                  75               345                        330   \n",
              "3                  73               328                        309   \n",
              "4                  80               340                        310   \n",
              "\n",
              "   bizygomaticbreadth  buttockcircumference  buttockdepth  buttockheight  \\\n",
              "0                 142                   979           240            882   \n",
              "1                 135                   944           232            870   \n",
              "2                 135                  1054           258            901   \n",
              "3                 143                   991           242            821   \n",
              "4                 138                  1029           275           1080   \n",
              "\n",
              "   buttockkneelength  buttockpopliteallength  calfcircumference  \\\n",
              "0                619                     509                373   \n",
              "1                584                     468                357   \n",
              "2                623                     506                412   \n",
              "3                560                     437                395   \n",
              "4                706                     567                425   \n",
              "\n",
              "   cervicaleheight  chestbreadth  chestcircumference  chestdepth  chestheight  \\\n",
              "0             1535           291                1074         259         1292   \n",
              "1             1471           269                1021         253         1244   \n",
              "2             1501           288                1120         267         1288   \n",
              "3             1423           296                1114         262         1205   \n",
              "4             1684           304                1048         232         1452   \n",
              "\n",
              "   crotchheight  crotchlengthomphalion  crotchlengthposterioromphalion  \\\n",
              "0           877                    607                             351   \n",
              "1           851                    615                             376   \n",
              "2           854                    636                             359   \n",
              "3           769                    590                             341   \n",
              "4          1014                    682                             382   \n",
              "\n",
              "   earbreadth  earlength  earprotrusion  elbowrestheight  eyeheightsitting  \\\n",
              "0          36         71             19              247               802   \n",
              "1          33         62             18              232               781   \n",
              "2          40         61             23              237               810   \n",
              "3          39         66             25              272               794   \n",
              "4          32         56             19              188               814   \n",
              "\n",
              "   footbreadthhorizontal  footlength  forearmcenterofgriplength  \\\n",
              "0                    101         273                        349   \n",
              "1                     98         263                        348   \n",
              "2                    103         270                        355   \n",
              "3                    106         267                        352   \n",
              "4                    111         305                        399   \n",
              "\n",
              "   forearmcircumferenceflexed  forearmforearmbreadth  forearmhandlength  \\\n",
              "0                         299                    575                477   \n",
              "1                         289                    523                476   \n",
              "2                         357                    575                491   \n",
              "3                         318                    593                467   \n",
              "4                         324                    605                550   \n",
              "\n",
              "   functionalleglength  handbreadth  handcircumference  handlength  \\\n",
              "0                 1136           90                214         193   \n",
              "1                 1096           86                203         195   \n",
              "2                 1115           93                220         203   \n",
              "3                 1034           91                217         194   \n",
              "4                 1279           94                222         218   \n",
              "\n",
              "   headbreadth  headcircumference  headlength  heelanklecircumference  \\\n",
              "0          150                583         206                     326   \n",
              "1          146                568         201                     334   \n",
              "2          148                573         202                     356   \n",
              "3          158                576         199                     341   \n",
              "4          153                566         197                     374   \n",
              "\n",
              "   heelbreadth  hipbreadth  hipbreadthsitting  iliocristaleheight  \\\n",
              "0           70         332                366                1071   \n",
              "1           72         312                356                1046   \n",
              "2           70         349                393                1053   \n",
              "3           68         338                367                 986   \n",
              "4           69         332                372                1251   \n",
              "\n",
              "   interpupillarybreadth  interscyei  interscyeii  kneeheightmidpatella  \\\n",
              "0                    685         422          441                   502   \n",
              "1                    620         441          447                   490   \n",
              "2                    665         462          475                   496   \n",
              "3                    640         458          461                   460   \n",
              "4                    675         481          505                   612   \n",
              "\n",
              "   kneeheightsitting  lateralfemoralepicondyleheight  lateralmalleolusheight  \\\n",
              "0                560                             500                      77   \n",
              "1                540                             488                      73   \n",
              "2                556                             482                      72   \n",
              "3                511                             452                      76   \n",
              "4                666                             585                      85   \n",
              "\n",
              "   lowerthighcircumference  mentonsellionlength  neckcircumference  \\\n",
              "0                      391                  118                400   \n",
              "1                      371                  131                380   \n",
              "2                      409                  123                403   \n",
              "3                      393                  106                407   \n",
              "4                      458                  135                398   \n",
              "\n",
              "   neckcircumferencebase  overheadfingertipreachsitting  palmlength  \\\n",
              "0                    436                           1447         113   \n",
              "1                    420                           1380         118   \n",
              "2                    434                           1447         121   \n",
              "3                    446                           1357         118   \n",
              "4                    430                           1572         132   \n",
              "\n",
              "   poplitealheight  radialestylionlength  shouldercircumference  \\\n",
              "0              437                   273                   1151   \n",
              "1              417                   254                   1119   \n",
              "2              431                   268                   1276   \n",
              "3              393                   249                   1155   \n",
              "4              523                   302                   1231   \n",
              "\n",
              "   shoulderelbowlength  shoulderlength  sittingheight  sleevelengthspinewrist  \\\n",
              "0                  368             145            928                     883   \n",
              "1                  353             141            884                     868   \n",
              "2                  367             167            917                     910   \n",
              "3                  330             148            903                     848   \n",
              "4                  400             180            919                     995   \n",
              "\n",
              "   sleeveoutseam  span  stature  suprasternaleheight  tenthribheight  \\\n",
              "0            600  1782     1776                 1449            1092   \n",
              "1            564  1745     1702                 1387            1076   \n",
              "2            604  1867     1735                 1438            1105   \n",
              "3            550  1708     1655                 1346            1021   \n",
              "4            641  2035     1914                 1596            1292   \n",
              "\n",
              "   thighcircumference  thighclearance  thumbtipreach  tibialheight  \\\n",
              "0                 610             164            786           491   \n",
              "1                 572             169            822           476   \n",
              "2                 685             198            807           477   \n",
              "3                 604             180            803           445   \n",
              "4                 672             194            962           584   \n",
              "\n",
              "   tragiontopofhead  trochanterionheight  verticaltrunkcircumferenceusa  \\\n",
              "0               140                  919                           1700   \n",
              "1               120                  918                           1627   \n",
              "2               125                  918                           1678   \n",
              "3               127                  847                           1625   \n",
              "4               122                 1090                           1679   \n",
              "\n",
              "   waistbacklength  waistbreadth  waistcircumference  waistdepth  \\\n",
              "0              501           329                 933         240   \n",
              "1              432           316                 870         225   \n",
              "2              472           329                 964         255   \n",
              "3              461           315                 857         205   \n",
              "4              467           303                 868         214   \n",
              "\n",
              "   waistfrontlengthsitting  waistheightomphalion  weightkg  \\\n",
              "0                      440                  1054       815   \n",
              "1                      371                  1054       726   \n",
              "2                      411                  1041       929   \n",
              "3                      399                   968       794   \n",
              "4                      379                  1245       946   \n",
              "\n",
              "   wristcircumference  wristheight Gender       Date Installation  \\\n",
              "0                 175          853   Male   4-Oct-10    Fort Hood   \n",
              "1                 167          815   Male   4-Oct-10    Fort Hood   \n",
              "2                 180          831   Male   4-Oct-10    Fort Hood   \n",
              "3                 176          793   Male  12-Oct-10    Fort Hood   \n",
              "4                 188          954   Male  12-Oct-10    Fort Hood   \n",
              "\n",
              "      Component                  Branch PrimaryMOS SubjectsBirthLocation  \\\n",
              "0  Regular Army             Combat Arms        19D          North Dakota   \n",
              "1  Regular Army          Combat Support        68W              New York   \n",
              "2  Regular Army          Combat Support        68W              New York   \n",
              "3  Regular Army  Combat Service Support        88M             Wisconsin   \n",
              "4  Regular Army  Combat Service Support        92G        North Carolina   \n",
              "\n",
              "   SubjectNumericRace Ethnicity  DODRace  Age  Heightin  Weightlbs  \\\n",
              "0                   1       NaN        1   41        71        180   \n",
              "1                   1       NaN        1   35        68        160   \n",
              "2                   2       NaN        2   42        68        205   \n",
              "3                   1       NaN        1   31        66        175   \n",
              "4                   2       NaN        2   21        77        213   \n",
              "\n",
              "  WritingPreference  \n",
              "0        Right hand  \n",
              "1         Left hand  \n",
              "2         Left hand  \n",
              "3        Right hand  \n",
              "4        Right hand  "
            ]
          },
          "metadata": {
            "tags": []
          },
          "execution_count": 13
        }
      ]
    },
    {
      "cell_type": "code",
      "metadata": {
        "id": "qbNUU9PN_mdE",
        "colab_type": "code",
        "colab": {},
        "outputId": "41fe09c4-f911-4cbd-808e-71108914ad5d"
      },
      "source": [
        "df.columns"
      ],
      "execution_count": 0,
      "outputs": [
        {
          "output_type": "execute_result",
          "data": {
            "text/plain": [
              "Index(['subjectid', 'abdominalextensiondepthsitting', 'acromialheight',\n",
              "       'acromionradialelength', 'anklecircumference', 'axillaheight',\n",
              "       'balloffootcircumference', 'balloffootlength', 'biacromialbreadth',\n",
              "       'bicepscircumferenceflexed',\n",
              "       ...\n",
              "       'Branch', 'PrimaryMOS', 'SubjectsBirthLocation', 'SubjectNumericRace',\n",
              "       'Ethnicity', 'DODRace', 'Age', 'Heightin', 'Weightlbs',\n",
              "       'WritingPreference'],\n",
              "      dtype='object', length=108)"
            ]
          },
          "metadata": {
            "tags": []
          },
          "execution_count": 14
        }
      ]
    },
    {
      "cell_type": "code",
      "metadata": {
        "id": "DL5Wdqgm_mdM",
        "colab_type": "code",
        "colab": {},
        "outputId": "1655a690-e3f2-4726-e9ee-fdf78b8b8268"
      },
      "source": [
        "df.shape"
      ],
      "execution_count": 0,
      "outputs": [
        {
          "output_type": "execute_result",
          "data": {
            "text/plain": [
              "(4082, 108)"
            ]
          },
          "metadata": {
            "tags": []
          },
          "execution_count": 15
        }
      ]
    },
    {
      "cell_type": "code",
      "metadata": {
        "id": "eGJofh4w_mdT",
        "colab_type": "code",
        "colab": {},
        "outputId": "511ae6ec-d1ba-4c0b-9bd6-a130a1dc9df1"
      },
      "source": [
        "df.info()"
      ],
      "execution_count": 0,
      "outputs": [
        {
          "output_type": "stream",
          "text": [
            "<class 'pandas.core.frame.DataFrame'>\n",
            "RangeIndex: 4082 entries, 0 to 4081\n",
            "Columns: 108 entries, subjectid to WritingPreference\n",
            "dtypes: int64(99), object(9)\n",
            "memory usage: 3.4+ MB\n"
          ],
          "name": "stdout"
        }
      ]
    },
    {
      "cell_type": "markdown",
      "metadata": {
        "id": "EggvL121_mdb",
        "colab_type": "text"
      },
      "source": [
        "В датасете используется рост в дюймах, добавим столбец с ростом в сантиметрах"
      ]
    },
    {
      "cell_type": "code",
      "metadata": {
        "id": "rXBUys7Q_mdc",
        "colab_type": "code",
        "colab": {}
      },
      "source": [
        "df['Heightcm'] = df['Heightin']*2.54"
      ],
      "execution_count": 0,
      "outputs": []
    },
    {
      "cell_type": "markdown",
      "metadata": {
        "id": "hmIlOd8__mdg",
        "colab_type": "text"
      },
      "source": [
        "Рассмотрим распределение роста по всей выборке:"
      ]
    },
    {
      "cell_type": "markdown",
      "metadata": {
        "id": "9yspvtbC_mdh",
        "colab_type": "text"
      },
      "source": [
        "средний рост:"
      ]
    },
    {
      "cell_type": "code",
      "metadata": {
        "id": "JHSfsThl_mdi",
        "colab_type": "code",
        "colab": {},
        "outputId": "25ec8296-78e6-43a6-d67a-9bbd182760be"
      },
      "source": [
        "df['Heightcm'].mean()"
      ],
      "execution_count": 0,
      "outputs": [
        {
          "output_type": "execute_result",
          "data": {
            "text/plain": [
              "177.89084762371562"
            ]
          },
          "metadata": {
            "tags": []
          },
          "execution_count": 18
        }
      ]
    },
    {
      "cell_type": "markdown",
      "metadata": {
        "id": "JJ4qZo2K_mdq",
        "colab_type": "text"
      },
      "source": [
        "медиана:"
      ]
    },
    {
      "cell_type": "code",
      "metadata": {
        "id": "bt0Sax1E_mds",
        "colab_type": "code",
        "colab": {},
        "outputId": "00289603-ec25-44c1-e67d-c522e2031010"
      },
      "source": [
        "df['Heightcm'].median()"
      ],
      "execution_count": 0,
      "outputs": [
        {
          "output_type": "execute_result",
          "data": {
            "text/plain": [
              "177.8"
            ]
          },
          "metadata": {
            "tags": []
          },
          "execution_count": 19
        }
      ]
    },
    {
      "cell_type": "code",
      "metadata": {
        "id": "zRAPfgO0_mdy",
        "colab_type": "code",
        "colab": {},
        "outputId": "a621101f-5adf-4903-8db5-5647e29891cb"
      },
      "source": [
        "# среднее квадратическое отклонение:\n",
        "df['Heightcm'].std(ddof=0)"
      ],
      "execution_count": 0,
      "outputs": [
        {
          "output_type": "execute_result",
          "data": {
            "text/plain": [
              "7.485526502714289"
            ]
          },
          "metadata": {
            "tags": []
          },
          "execution_count": 20
        }
      ]
    },
    {
      "cell_type": "markdown",
      "metadata": {
        "id": "UbcgLZyq_md_",
        "colab_type": "text"
      },
      "source": [
        "Дисперсия смещённая:"
      ]
    },
    {
      "cell_type": "code",
      "metadata": {
        "id": "r5x0VdL7_meA",
        "colab_type": "code",
        "colab": {},
        "outputId": "2e2628ae-1bd6-4f7a-942d-cc48d4e4c1ed"
      },
      "source": [
        "df['Heightcm'].var(ddof=0)"
      ],
      "execution_count": 0,
      "outputs": [
        {
          "output_type": "execute_result",
          "data": {
            "text/plain": [
              "56.03310702283802"
            ]
          },
          "metadata": {
            "tags": []
          },
          "execution_count": 21
        }
      ]
    },
    {
      "cell_type": "markdown",
      "metadata": {
        "id": "ZiHJtM7C_meJ",
        "colab_type": "text"
      },
      "source": [
        "и несмещённая:"
      ]
    },
    {
      "cell_type": "code",
      "metadata": {
        "id": "taH22ZR3_meM",
        "colab_type": "code",
        "colab": {},
        "outputId": "dfd13893-1218-4901-f835-9cc810f96c41"
      },
      "source": [
        "df['Heightcm'].var(ddof=1)"
      ],
      "execution_count": 0,
      "outputs": [
        {
          "output_type": "execute_result",
          "data": {
            "text/plain": [
              "56.046837262245724"
            ]
          },
          "metadata": {
            "tags": []
          },
          "execution_count": 22
        }
      ]
    },
    {
      "cell_type": "markdown",
      "metadata": {
        "id": "jsD__Xji_meQ",
        "colab_type": "text"
      },
      "source": [
        "Построим гистограмму:"
      ]
    },
    {
      "cell_type": "code",
      "metadata": {
        "id": "LZrgO0nC_meT",
        "colab_type": "code",
        "colab": {},
        "outputId": "ca334f3e-2342-4507-ac36-2b9ca264a640"
      },
      "source": [
        "df['Heightcm'].hist(bins=35)"
      ],
      "execution_count": 0,
      "outputs": [
        {
          "output_type": "execute_result",
          "data": {
            "text/plain": [
              "<matplotlib.axes._subplots.AxesSubplot at 0x2180e98bac8>"
            ]
          },
          "metadata": {
            "tags": []
          },
          "execution_count": 23
        },
        {
          "output_type": "display_data",
          "data": {
            "image/png": "[encoded data removed]",
            "text/plain": [
              "<Figure size 432x288 with 1 Axes>"
            ]
          },
          "metadata": {
            "tags": [],
            "needs_background": "light"
          }
        }
      ]
    },
    {
      "cell_type": "code",
      "metadata": {
        "id": "lbd-TFbC_meY",
        "colab_type": "code",
        "colab": {},
        "outputId": "174ec762-b556-4780-b10b-09f7fdd482b7"
      },
      "source": [
        "df['Heightcm'].hist(bins=40)"
      ],
      "execution_count": 0,
      "outputs": [
        {
          "output_type": "execute_result",
          "data": {
            "text/plain": [
              "<matplotlib.axes._subplots.AxesSubplot at 0x2180f56f668>"
            ]
          },
          "metadata": {
            "tags": []
          },
          "execution_count": 24
        },
        {
          "output_type": "display_data",
          "data": {
            "image/png": "[encoded data removed]",
            "text/plain": [
              "<Figure size 432x288 with 1 Axes>"
            ]
          },
          "metadata": {
            "tags": [],
            "needs_background": "light"
          }
        }
      ]
    },
    {
      "cell_type": "markdown",
      "metadata": {
        "id": "X-HpFXW2_mef",
        "colab_type": "text"
      },
      "source": [
        "в целом, проглядывается что-то нормальное :)"
      ]
    },
    {
      "cell_type": "code",
      "metadata": {
        "id": "XQMSKjcG_meg",
        "colab_type": "code",
        "colab": {},
        "outputId": "00aafb53-7e5f-43d9-993f-b5bf1c2bfbba"
      },
      "source": [
        "df[['Heightcm']].boxplot()"
      ],
      "execution_count": 0,
      "outputs": [
        {
          "output_type": "execute_result",
          "data": {
            "text/plain": [
              "<matplotlib.axes._subplots.AxesSubplot at 0x2180f61ad68>"
            ]
          },
          "metadata": {
            "tags": []
          },
          "execution_count": 25
        },
        {
          "output_type": "display_data",
          "data": {
            "image/png": "[encoded data removed]",
            "text/plain": [
              "<Figure size 432x288 with 1 Axes>"
            ]
          },
          "metadata": {
            "tags": [],
            "needs_background": "light"
          }
        }
      ]
    },
    {
      "cell_type": "markdown",
      "metadata": {
        "id": "wObnL6nC_mel",
        "colab_type": "text"
      },
      "source": [
        "Видим довольно компактное ядро со значительными выбросами вверх (из опыта и общих соображений можно заметить что вообще рост людей на хвостах теряет симметричность)"
      ]
    },
    {
      "cell_type": "markdown",
      "metadata": {
        "id": "JM_bbBdP_mem",
        "colab_type": "text"
      },
      "source": [
        "### Проверка статистической значимости различия роста по расам"
      ]
    },
    {
      "cell_type": "markdown",
      "metadata": {
        "id": "Bqgnvsft_men",
        "colab_type": "text"
      },
      "source": [
        "расу служащего показывает поле DDORace. описание поля:\n",
        "\n",
        "DODRace – Department of Defense Race; a single digit indicating a subject’s\n",
        "self-reported preferred single race where selecting multiple races is not an option.\n",
        "This variable is intended to be comparable to the Defense Manpower Data Center\n",
        "demographic data. Where 1 = White, 2 = Black, 3 = Hispanic, 4 = Asian,\n",
        "5 = Native American, 6 = Pacific Islander, 8 = Other"
      ]
    },
    {
      "cell_type": "markdown",
      "metadata": {
        "id": "Vly47aaD_meo",
        "colab_type": "text"
      },
      "source": [
        "возьмем отдельные выборки роста по расам"
      ]
    },
    {
      "cell_type": "code",
      "metadata": {
        "id": "xK2jDX0i_meq",
        "colab_type": "code",
        "colab": {},
        "outputId": "a2a5feda-d85d-47fb-e5c5-6e539c541f6c"
      },
      "source": [
        "x1 = df.loc[df['DODRace']==1, 'Heightcm']\n",
        "x2 = df.loc[df['DODRace']==2, 'Heightcm']\n",
        "x3 = df.loc[df['DODRace']==3, 'Heightcm']\n",
        "x4 = df.loc[df['DODRace']==4, 'Heightcm']\n",
        "x5 = df.loc[df['DODRace']==5, 'Heightcm']\n",
        "x6 = df.loc[df['DODRace']==6, 'Heightcm']\n",
        "x7 = df.loc[df['DODRace']>6, 'Heightcm']\n",
        "X = np.array([x1,x2,x3,x4,x5,x6,x7])\n",
        "Y = np.concatenate(X)\n",
        "\n",
        "n = np.array([_.shape[0] for _ in X])\n",
        "n"
      ],
      "execution_count": 0,
      "outputs": [
        {
          "output_type": "execute_result",
          "data": {
            "text/plain": [
              "array([2817,  642,  440,  117,   29,   34,    3])"
            ]
          },
          "metadata": {
            "tags": []
          },
          "execution_count": 26
        }
      ]
    },
    {
      "cell_type": "markdown",
      "metadata": {
        "id": "IjVmA0WV_mev",
        "colab_type": "text"
      },
      "source": [
        "Выборочные средние по каждой группе:"
      ]
    },
    {
      "cell_type": "code",
      "metadata": {
        "id": "3UfbrmOT_mew",
        "colab_type": "code",
        "colab": {},
        "outputId": "e2ddd052-49ec-495e-a2cf-4497ad69b736"
      },
      "source": [
        "X_means = np.array([_.mean() for _ in X])\n",
        "X_means"
      ],
      "execution_count": 0,
      "outputs": [
        {
          "output_type": "execute_result",
          "data": {
            "text/plain": [
              "array([178.63855165, 178.72579439, 173.82836364, 171.98188034,\n",
              "       178.50068966, 172.79470588, 175.26      ])"
            ]
          },
          "metadata": {
            "tags": []
          },
          "execution_count": 27
        }
      ]
    },
    {
      "cell_type": "markdown",
      "metadata": {
        "id": "b2rGoD-I_me6",
        "colab_type": "text"
      },
      "source": [
        "видно что все группы расходятся на 2 кластера (1,2 и 5 группы в один, и 3,4 и 6 в другой. седьмая группа Other где-то посередине)"
      ]
    },
    {
      "cell_type": "markdown",
      "metadata": {
        "id": "OIhCwU5d_me8",
        "colab_type": "text"
      },
      "source": [
        "Проверим статистическую значимость различий с помощью дисперсионного анализа"
      ]
    },
    {
      "cell_type": "code",
      "metadata": {
        "id": "oZ6NTGDR_me9",
        "colab_type": "code",
        "colab": {}
      },
      "source": [
        ""
      ],
      "execution_count": 0,
      "outputs": []
    },
    {
      "cell_type": "code",
      "metadata": {
        "id": "yURaXv0o_mfA",
        "colab_type": "code",
        "colab": {},
        "outputId": "359bc372-12d0-4df0-b6f7-3795d78454a9"
      },
      "source": [
        "y_mean = Y.mean()\n",
        "y_mean"
      ],
      "execution_count": 0,
      "outputs": [
        {
          "output_type": "execute_result",
          "data": {
            "text/plain": [
              "177.89084762371385"
            ]
          },
          "metadata": {
            "tags": []
          },
          "execution_count": 28
        }
      ]
    },
    {
      "cell_type": "markdown",
      "metadata": {
        "id": "yvyzut8j_mfk",
        "colab_type": "text"
      },
      "source": [
        "Сумма квадратов отклонений наблюдений от общего среднего:"
      ]
    },
    {
      "cell_type": "code",
      "metadata": {
        "id": "eYYdOZdS_mfm",
        "colab_type": "code",
        "colab": {},
        "outputId": "e4f87c3d-6285-4f9c-8905-138f55cb978e"
      },
      "source": [
        "S2 = ((Y - y_mean) ** 2).sum()\n",
        "S2"
      ],
      "execution_count": 0,
      "outputs": [
        {
          "output_type": "execute_result",
          "data": {
            "text/plain": [
              "228727.14286722196"
            ]
          },
          "metadata": {
            "tags": []
          },
          "execution_count": 29
        }
      ]
    },
    {
      "cell_type": "markdown",
      "metadata": {
        "id": "QcUjANFb_mf1",
        "colab_type": "text"
      },
      "source": [
        "сумма квадратов отклонений средних групповых значений от общего среднего значения:"
      ]
    },
    {
      "cell_type": "code",
      "metadata": {
        "id": "7igVy-NU_mf3",
        "colab_type": "code",
        "colab": {},
        "outputId": "d38ab859-1331-4b4d-84d7-3753fb9da3ef"
      },
      "source": [
        "#S2_F = n1 * (y1_mean - y_mean) ** 2 + n2 * (y2_mean - y_mean) ** 2 + n3 * (y3_mean - y_mean) ** 2\n",
        "S2_F = (n*(X_means-y_mean)**2).sum()\n",
        "S2_F"
      ],
      "execution_count": 0,
      "outputs": [
        {
          "output_type": "execute_result",
          "data": {
            "text/plain": [
              "14283.810090221887"
            ]
          },
          "metadata": {
            "tags": []
          },
          "execution_count": 30
        }
      ]
    },
    {
      "cell_type": "markdown",
      "metadata": {
        "id": "SwSqv1-X_mgB",
        "colab_type": "text"
      },
      "source": [
        "остаточная сумма квадратов отклонений:\n"
      ]
    },
    {
      "cell_type": "code",
      "metadata": {
        "id": "x6CMxneo_mgE",
        "colab_type": "code",
        "colab": {}
      },
      "source": [
        "#S2_res = ((y1 - y1_mean) ** 2).sum() + ((y2 - y2_mean) ** 2).sum() + ((y3 - y3_mean) ** 2).sum()\n"
      ],
      "execution_count": 0,
      "outputs": []
    },
    {
      "cell_type": "code",
      "metadata": {
        "id": "4eM03bkD_mgI",
        "colab_type": "code",
        "colab": {},
        "outputId": "96150e16-92ff-4d7f-e56d-1b821542b1a1"
      },
      "source": [
        "S2_res = (np.array([_.sum() for _ in (X - X_means)**2])).sum()\n",
        "S2_res"
      ],
      "execution_count": 0,
      "outputs": [
        {
          "output_type": "execute_result",
          "data": {
            "text/plain": [
              "214443.33277700338"
            ]
          },
          "metadata": {
            "tags": []
          },
          "execution_count": 32
        }
      ]
    },
    {
      "cell_type": "markdown",
      "metadata": {
        "id": "mPxyLSXg_mgS",
        "colab_type": "text"
      },
      "source": [
        "Проверим выполнение равенства $S^2 = S_F^2 + S_{res}^2:$"
      ]
    },
    {
      "cell_type": "code",
      "metadata": {
        "id": "PcoBiSxS_mgT",
        "colab_type": "code",
        "colab": {},
        "outputId": "7e7f8e87-969c-45ec-9646-f58159440992"
      },
      "source": [
        "S2 - (S2_F+S2_res)"
      ],
      "execution_count": 0,
      "outputs": [
        {
          "output_type": "execute_result",
          "data": {
            "text/plain": [
              "-3.3178366720676422e-09"
            ]
          },
          "metadata": {
            "tags": []
          },
          "execution_count": 33
        }
      ]
    },
    {
      "cell_type": "markdown",
      "metadata": {
        "id": "_8JVnGGq_mgf",
        "colab_type": "text"
      },
      "source": [
        "совпадение в пределах погрешности"
      ]
    },
    {
      "cell_type": "markdown",
      "metadata": {
        "id": "YwMBw5_v_mgh",
        "colab_type": "text"
      },
      "source": [
        "произведем оценку дисперсии"
      ]
    },
    {
      "cell_type": "code",
      "metadata": {
        "id": "NXxbKLeu_mgi",
        "colab_type": "code",
        "colab": {},
        "outputId": "5636a343-47dd-431c-ea81-0789af2543d3"
      },
      "source": [
        "k = X.shape[0]\n",
        "\n",
        "k1 = k - 1\n",
        "k2 = n.sum() - k\n",
        "\n",
        "sigma2_F = S2_F / k1\n",
        "sigma2_res = S2_res / k2\n",
        "\n",
        "sigma2_F, sigma2_res"
      ],
      "execution_count": 0,
      "outputs": [
        {
          "output_type": "execute_result",
          "data": {
            "text/plain": [
              "(2380.6350150369813, 52.62413074282291)"
            ]
          },
          "metadata": {
            "tags": []
          },
          "execution_count": 34
        }
      ]
    },
    {
      "cell_type": "markdown",
      "metadata": {
        "id": "S0yDRKnE_mgm",
        "colab_type": "text"
      },
      "source": [
        "Итак, значение статистики $T$:"
      ]
    },
    {
      "cell_type": "code",
      "metadata": {
        "id": "OXNK4fGi_mgn",
        "colab_type": "code",
        "colab": {},
        "outputId": "f2ce0a47-6b7e-4860-d819-6dd6cf8680d1"
      },
      "source": [
        "T = sigma2_F / sigma2_res\n",
        "T"
      ],
      "execution_count": 0,
      "outputs": [
        {
          "output_type": "execute_result",
          "data": {
            "text/plain": [
              "45.23846724749295"
            ]
          },
          "metadata": {
            "tags": []
          },
          "execution_count": 35
        }
      ]
    },
    {
      "cell_type": "markdown",
      "metadata": {
        "id": "8bTLaIBt_mgs",
        "colab_type": "text"
      },
      "source": [
        "Для уровеня значимости $\\alpha = 0.05$ найдём критическое значение $F_{crit}$:"
      ]
    },
    {
      "cell_type": "code",
      "metadata": {
        "id": "CWaYa8AT_mgv",
        "colab_type": "code",
        "colab": {}
      },
      "source": [
        "from scipy import stats"
      ],
      "execution_count": 0,
      "outputs": []
    },
    {
      "cell_type": "code",
      "metadata": {
        "id": "QHPpUT2J_mg4",
        "colab_type": "code",
        "colab": {},
        "outputId": "a98acafd-6a10-4f5e-f20a-e338798e57a1"
      },
      "source": [
        "alpha = 0.05\n",
        "\n",
        "F_crit = stats.f.ppf(1 - alpha, k1, k2)\n",
        "F_crit"
      ],
      "execution_count": 0,
      "outputs": [
        {
          "output_type": "execute_result",
          "data": {
            "text/plain": [
              "2.100811275673964"
            ]
          },
          "metadata": {
            "tags": []
          },
          "execution_count": 37
        }
      ]
    },
    {
      "cell_type": "markdown",
      "metadata": {
        "id": "Za4PmcAy_mg9",
        "colab_type": "text"
      },
      "source": [
        "Таким образом, различия в росте военнослужащих US Army по расам можно считать статистически существенным."
      ]
    },
    {
      "cell_type": "markdown",
      "metadata": {
        "id": "rZ0ZrUFX_mhB",
        "colab_type": "text"
      },
      "source": [
        "Вышеприведенные вычисления можно собрать в функцию"
      ]
    },
    {
      "cell_type": "code",
      "metadata": {
        "id": "Pzff7cmF_mhC",
        "colab_type": "code",
        "colab": {}
      },
      "source": [
        "def var_analysis(X):  # X - np.array данных по категориям\n",
        "    Y = np.concatenate(X)\n",
        "    n = np.array([_.shape[0] for _ in X])\n",
        "    X_means = np.array([_.mean() for _ in X])\n",
        "    y_mean = Y.mean()\n",
        "    S2_F = (n*(X_means-y_mean)**2).sum()\n",
        "    S2_res = (np.array([_.sum() for _ in (X - X_means)**2])).sum()\n",
        "    \n",
        "    k = X.shape[0]\n",
        "    k1 = k - 1\n",
        "    k2 = n.sum() - k\n",
        "\n",
        "    sigma2_F = S2_F / k1\n",
        "    sigma2_res = S2_res / k2\n",
        "    T = sigma2_F / sigma2_res\n",
        "    \n",
        "    from scipy import stats\n",
        "    alpha = 0.05\n",
        "\n",
        "    F_crit = stats.f.ppf(1 - alpha, k1, k2)\n",
        "    return T, F_crit          "
      ],
      "execution_count": 0,
      "outputs": []
    },
    {
      "cell_type": "code",
      "metadata": {
        "id": "k57GenUe_mhI",
        "colab_type": "code",
        "colab": {},
        "outputId": "bd1a94bc-28bf-49df-f3ea-3da2d49e62ea"
      },
      "source": [
        "var_analysis(X)"
      ],
      "execution_count": 0,
      "outputs": [
        {
          "output_type": "execute_result",
          "data": {
            "text/plain": [
              "(45.23846724749295, 2.100811275673964)"
            ]
          },
          "metadata": {
            "tags": []
          },
          "execution_count": 39
        }
      ]
    },
    {
      "cell_type": "markdown",
      "metadata": {
        "id": "jNJGJcvL_mhU",
        "colab_type": "text"
      },
      "source": [
        "Если взять только данные по 1,2,5 группам, то получим:"
      ]
    },
    {
      "cell_type": "code",
      "metadata": {
        "id": "pCEMBxs5_mhV",
        "colab_type": "code",
        "colab": {},
        "outputId": "dd573d70-13f8-43b9-ab59-dc6f32e44eed"
      },
      "source": [
        "var_analysis(np.array([x1,x2,x5]))"
      ],
      "execution_count": 0,
      "outputs": [
        {
          "output_type": "execute_result",
          "data": {
            "text/plain": [
              "(0.044110727482651345, 2.9983089039832436)"
            ]
          },
          "metadata": {
            "tags": []
          },
          "execution_count": 40
        }
      ]
    },
    {
      "cell_type": "markdown",
      "metadata": {
        "id": "IzMVPaIK_mha",
        "colab_type": "text"
      },
      "source": [
        "различия практически незаметны"
      ]
    },
    {
      "cell_type": "markdown",
      "metadata": {
        "id": "mC3Ixfyo_mhk",
        "colab_type": "text"
      },
      "source": [
        "Если взять только данные по 3,4,6 и 7 группам, то получим:"
      ]
    },
    {
      "cell_type": "code",
      "metadata": {
        "id": "Xx9i8Kjv_mhl",
        "colab_type": "code",
        "colab": {},
        "outputId": "0b21f051-acdd-49c0-cd22-c8e41fade199"
      },
      "source": [
        "var_analysis(np.array([x3,x4,x6,x7]))"
      ],
      "execution_count": 0,
      "outputs": [
        {
          "output_type": "execute_result",
          "data": {
            "text/plain": [
              "(2.2003493643991043, 2.6200060860764567)"
            ]
          },
          "metadata": {
            "tags": []
          },
          "execution_count": 41
        }
      ]
    },
    {
      "cell_type": "markdown",
      "metadata": {
        "id": "gJb36BMB_mhs",
        "colab_type": "text"
      },
      "source": [
        "здесь на грани, но тоже в \"зоне незначительности\""
      ]
    },
    {
      "cell_type": "code",
      "metadata": {
        "id": "whpMoPS__mht",
        "colab_type": "code",
        "colab": {}
      },
      "source": [
        ""
      ],
      "execution_count": 0,
      "outputs": []
    }
  ]
}